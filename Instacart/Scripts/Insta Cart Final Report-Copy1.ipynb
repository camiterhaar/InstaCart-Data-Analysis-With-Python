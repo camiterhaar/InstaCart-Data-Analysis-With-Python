{
 "cells": [
  {
   "cell_type": "code",
   "execution_count": 1,
   "id": "844a9993",
   "metadata": {},
   "outputs": [],
   "source": [
    "# Import Libraries\n",
    "import pandas as pd\n",
    "import numpy as np\n",
    "import os\n",
    "import matplotlib.pyplot as plt\n",
    "import seaborn as sns\n",
    "import scipy"
   ]
  },
  {
   "cell_type": "code",
   "execution_count": 2,
   "id": "bb1ceefb",
   "metadata": {},
   "outputs": [],
   "source": [
    "# Create path\n",
    "path=r'C:\\Users\\jerem\\anaconda\\Instacart\\Data'"
   ]
  },
  {
   "cell_type": "code",
   "execution_count": 3,
   "id": "d56e5133",
   "metadata": {},
   "outputs": [],
   "source": [
    "# Import data\n",
    "cust_ords_prods_merge=pd.read_pickle(r'C:\\Users\\jerem\\anaconda\\Instacart\\Data\\cust_ords_prods_merge.pkl')"
   ]
  },
  {
   "cell_type": "code",
   "execution_count": null,
   "id": "3bac244c",
   "metadata": {},
   "outputs": [],
   "source": [
    "cust_ords_prods_merge.head()"
   ]
  },
  {
   "cell_type": "code",
   "execution_count": 4,
   "id": "f6bd6752",
   "metadata": {},
   "outputs": [],
   "source": [
    "# Remove PII columns\n",
    "cust_ords_prods_merge=cust_ords_prods_merge.drop(columns= ['First', 'Last'])"
   ]
  },
  {
   "cell_type": "code",
   "execution_count": null,
   "id": "cf396830",
   "metadata": {},
   "outputs": [],
   "source": [
    "cust_ords_prods_merge.head()"
   ]
  },
  {
   "cell_type": "code",
   "execution_count": 5,
   "id": "e85b3452",
   "metadata": {},
   "outputs": [],
   "source": [
    "# Create region flag\n",
    "result = []\n",
    "\n",
    "for value in cust_ords_prods_merge[\"State\"]:\n",
    "  if value in ['Maine', 'New Hampshire', 'Vermont', 'Massachusetts', 'Rhode Island', 'Connecticut', 'New York', 'Pennsylvania', 'New Jersey']:\n",
    "    result.append(\"Northeast\")\n",
    "  elif value in ['Wisconsin', 'Michigan', 'Illinois', 'Indiana', 'Ohio', 'North Dakota', 'South Dakota', 'Nebraska', 'Kansas', 'Minnesota', 'Iowa', 'Missouri']:\n",
    "    result.append(\"Midwest\")\n",
    "  elif value in ['Delaware', 'Maryland', 'District of Columbia', 'Virginia', 'West Virginia', 'North Carolina', 'South Carolina', 'Georgia', 'Florida', 'Kentucky', 'Tennessee', 'Mississippi', 'Alabama', 'Oklahoma', 'Texas', 'Arkansas', 'Louisiana']:\n",
    "    result.append(\"South\"),\n",
    "  else:\n",
    "    result.append(\"West\")"
   ]
  },
  {
   "cell_type": "code",
   "execution_count": 6,
   "id": "949df15c",
   "metadata": {},
   "outputs": [],
   "source": [
    "cust_ords_prods_merge['Region']= result"
   ]
  },
  {
   "cell_type": "code",
   "execution_count": 7,
   "id": "126558a2",
   "metadata": {},
   "outputs": [
    {
     "data": {
      "text/plain": [
       "Region\n",
       "South        10791885\n",
       "West          8292913\n",
       "Midwest       7597325\n",
       "Northeast     5722736\n",
       "Name: count, dtype: int64"
      ]
     },
     "execution_count": 7,
     "metadata": {},
     "output_type": "execute_result"
    }
   ],
   "source": [
    "cust_ords_prods_merge['Region'].value_counts(dropna= False)"
   ]
  },
  {
   "cell_type": "code",
   "execution_count": null,
   "id": "62561860",
   "metadata": {},
   "outputs": [],
   "source": [
    "cust_ords_prods_merge.head()"
   ]
  },
  {
   "cell_type": "code",
   "execution_count": 8,
   "id": "73722d43",
   "metadata": {},
   "outputs": [],
   "source": [
    "# Cross region with spending flag\n",
    "crosstab = pd.crosstab(cust_ords_prods_merge['Region'], cust_ords_prods_merge['spending_flag'], dropna = False)"
   ]
  },
  {
   "cell_type": "code",
   "execution_count": null,
   "id": "537303b7",
   "metadata": {},
   "outputs": [],
   "source": [
    "crosstab"
   ]
  },
  {
   "cell_type": "code",
   "execution_count": 9,
   "id": "2ba0465a",
   "metadata": {},
   "outputs": [],
   "source": [
    "# Create exclusion flag\n",
    "cust_ords_prods_merge.loc[cust_ords_prods_merge['max_order'] < 5, 'activity_flag']= 'Low activity'"
   ]
  },
  {
   "cell_type": "code",
   "execution_count": 10,
   "id": "fe90d62e",
   "metadata": {},
   "outputs": [],
   "source": [
    "cust_ords_prods_merge.loc[cust_ords_prods_merge['max_order'] >= 5, 'activity_flag']= 'Normal activity'"
   ]
  },
  {
   "cell_type": "code",
   "execution_count": 11,
   "id": "8a6c54dc",
   "metadata": {},
   "outputs": [
    {
     "data": {
      "text/plain": [
       "activity_flag\n",
       "Normal activity    30964564\n",
       "Low activity        1440295\n",
       "Name: count, dtype: int64"
      ]
     },
     "execution_count": 11,
     "metadata": {},
     "output_type": "execute_result"
    }
   ],
   "source": [
    "cust_ords_prods_merge['activity_flag'].value_counts(dropna= False)"
   ]
  },
  {
   "cell_type": "code",
   "execution_count": 12,
   "id": "24541e62",
   "metadata": {},
   "outputs": [],
   "source": [
    "low_act= cust_ords_prods_merge[cust_ords_prods_merge['activity_flag']== 'Low activity']"
   ]
  },
  {
   "cell_type": "code",
   "execution_count": 13,
   "id": "26393948",
   "metadata": {},
   "outputs": [],
   "source": [
    "norm_act= cust_ords_prods_merge[cust_ords_prods_merge['activity_flag']== 'Normal activity']"
   ]
  },
  {
   "cell_type": "code",
   "execution_count": 15,
   "id": "b192e0aa",
   "metadata": {},
   "outputs": [],
   "source": [
    "# Export activity\n",
    "low_act.to_pickle(os.path.join(path, 'low_activity.pkl'))"
   ]
  },
  {
   "cell_type": "code",
   "execution_count": 16,
   "id": "d21174b6",
   "metadata": {},
   "outputs": [
    {
     "ename": "MemoryError",
     "evalue": "",
     "output_type": "error",
     "traceback": [
      "\u001b[1;31m---------------------------------------------------------------------------\u001b[0m",
      "\u001b[1;31mMemoryError\u001b[0m                               Traceback (most recent call last)",
      "Cell \u001b[1;32mIn[16], line 1\u001b[0m\n\u001b[1;32m----> 1\u001b[0m norm_act\u001b[38;5;241m.\u001b[39mto_pickle(os\u001b[38;5;241m.\u001b[39mpath\u001b[38;5;241m.\u001b[39mjoin(path, \u001b[38;5;124m'\u001b[39m\u001b[38;5;124mnormal_activity.pkl\u001b[39m\u001b[38;5;124m'\u001b[39m))\n",
      "File \u001b[1;32m~\\anaconda\\Lib\\site-packages\\pandas\\core\\generic.py:2955\u001b[0m, in \u001b[0;36mNDFrame.to_pickle\u001b[1;34m(self, path, compression, protocol, storage_options)\u001b[0m\n\u001b[0;32m   2903\u001b[0m \u001b[38;5;250m\u001b[39m\u001b[38;5;124;03m\"\"\"\u001b[39;00m\n\u001b[0;32m   2904\u001b[0m \u001b[38;5;124;03mPickle (serialize) object to file.\u001b[39;00m\n\u001b[0;32m   2905\u001b[0m \n\u001b[1;32m   (...)\u001b[0m\n\u001b[0;32m   2951\u001b[0m \u001b[38;5;124;03m4    4    9\u001b[39;00m\n\u001b[0;32m   2952\u001b[0m \u001b[38;5;124;03m\"\"\"\u001b[39;00m  \u001b[38;5;66;03m# noqa: E501\u001b[39;00m\n\u001b[0;32m   2953\u001b[0m \u001b[38;5;28;01mfrom\u001b[39;00m \u001b[38;5;21;01mpandas\u001b[39;00m\u001b[38;5;21;01m.\u001b[39;00m\u001b[38;5;21;01mio\u001b[39;00m\u001b[38;5;21;01m.\u001b[39;00m\u001b[38;5;21;01mpickle\u001b[39;00m \u001b[38;5;28;01mimport\u001b[39;00m to_pickle\n\u001b[1;32m-> 2955\u001b[0m to_pickle(\n\u001b[0;32m   2956\u001b[0m     \u001b[38;5;28mself\u001b[39m,\n\u001b[0;32m   2957\u001b[0m     path,\n\u001b[0;32m   2958\u001b[0m     compression\u001b[38;5;241m=\u001b[39mcompression,\n\u001b[0;32m   2959\u001b[0m     protocol\u001b[38;5;241m=\u001b[39mprotocol,\n\u001b[0;32m   2960\u001b[0m     storage_options\u001b[38;5;241m=\u001b[39mstorage_options,\n\u001b[0;32m   2961\u001b[0m )\n",
      "File \u001b[1;32m~\\anaconda\\Lib\\site-packages\\pandas\\io\\pickle.py:103\u001b[0m, in \u001b[0;36mto_pickle\u001b[1;34m(obj, filepath_or_buffer, compression, protocol, storage_options)\u001b[0m\n\u001b[0;32m     93\u001b[0m     protocol \u001b[38;5;241m=\u001b[39m pickle\u001b[38;5;241m.\u001b[39mHIGHEST_PROTOCOL\n\u001b[0;32m     95\u001b[0m \u001b[38;5;28;01mwith\u001b[39;00m get_handle(\n\u001b[0;32m     96\u001b[0m     filepath_or_buffer,\n\u001b[0;32m     97\u001b[0m     \u001b[38;5;124m\"\u001b[39m\u001b[38;5;124mwb\u001b[39m\u001b[38;5;124m\"\u001b[39m,\n\u001b[1;32m   (...)\u001b[0m\n\u001b[0;32m    101\u001b[0m ) \u001b[38;5;28;01mas\u001b[39;00m handles:\n\u001b[0;32m    102\u001b[0m     \u001b[38;5;66;03m# letting pickle write directly to the buffer is more memory-efficient\u001b[39;00m\n\u001b[1;32m--> 103\u001b[0m     pickle\u001b[38;5;241m.\u001b[39mdump(obj, handles\u001b[38;5;241m.\u001b[39mhandle, protocol\u001b[38;5;241m=\u001b[39mprotocol)\n",
      "\u001b[1;31mMemoryError\u001b[0m: "
     ]
    }
   ],
   "source": [
    "norm_act.to_pickle(os.path.join(path, 'normal_activity.pkl'))"
   ]
  },
  {
   "cell_type": "code",
   "execution_count": null,
   "id": "5c8a8f9e",
   "metadata": {},
   "outputs": [],
   "source": []
  }
 ],
 "metadata": {
  "kernelspec": {
   "display_name": "Python 3 (ipykernel)",
   "language": "python",
   "name": "python3"
  },
  "language_info": {
   "codemirror_mode": {
    "name": "ipython",
    "version": 3
   },
   "file_extension": ".py",
   "mimetype": "text/x-python",
   "name": "python",
   "nbconvert_exporter": "python",
   "pygments_lexer": "ipython3",
   "version": "3.11.4"
  }
 },
 "nbformat": 4,
 "nbformat_minor": 5
}
