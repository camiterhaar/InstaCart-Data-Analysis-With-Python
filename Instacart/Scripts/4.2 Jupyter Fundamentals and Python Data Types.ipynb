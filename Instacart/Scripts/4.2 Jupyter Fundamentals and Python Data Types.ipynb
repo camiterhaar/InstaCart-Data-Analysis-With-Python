{
 "cells": [
  {
   "cell_type": "code",
   "execution_count": null,
   "id": "e352e5bc",
   "metadata": {},
   "outputs": [],
   "source": [
    "#01. Importing Libraries"
   ]
  },
  {
   "cell_type": "code",
   "execution_count": 3,
   "id": "b793347f",
   "metadata": {},
   "outputs": [],
   "source": [
    "#Importing libraries\n",
    "import pandas as pd\n",
    "import numpy as np\n",
    "import os"
   ]
  },
  {
   "cell_type": "code",
   "execution_count": 4,
   "id": "95d9aaea",
   "metadata": {},
   "outputs": [],
   "source": [
    "#02. Working Data Types"
   ]
  },
  {
   "cell_type": "code",
   "execution_count": 5,
   "id": "5f365869",
   "metadata": {},
   "outputs": [
    {
     "data": {
      "text/plain": [
       "100"
      ]
     },
     "execution_count": 5,
     "metadata": {},
     "output_type": "execute_result"
    }
   ],
   "source": [
    "101-1"
   ]
  },
  {
   "cell_type": "code",
   "execution_count": 6,
   "id": "5c2105a0",
   "metadata": {},
   "outputs": [
    {
     "data": {
      "text/plain": [
       "100"
      ]
     },
     "execution_count": 6,
     "metadata": {},
     "output_type": "execute_result"
    }
   ],
   "source": [
    "95+5"
   ]
  },
  {
   "cell_type": "code",
   "execution_count": 7,
   "id": "25087c4a",
   "metadata": {},
   "outputs": [
    {
     "data": {
      "text/plain": [
       "100"
      ]
     },
     "execution_count": 7,
     "metadata": {},
     "output_type": "execute_result"
    }
   ],
   "source": [
    "100-1+1"
   ]
  },
  {
   "cell_type": "code",
   "execution_count": 8,
   "id": "c1c2bbcb",
   "metadata": {},
   "outputs": [],
   "source": [
    "x=2.5"
   ]
  },
  {
   "cell_type": "code",
   "execution_count": 9,
   "id": "ee49a157",
   "metadata": {},
   "outputs": [],
   "source": [
    "y=5"
   ]
  },
  {
   "cell_type": "code",
   "execution_count": 10,
   "id": "cfab9ce3",
   "metadata": {},
   "outputs": [
    {
     "data": {
      "text/plain": [
       "2.0"
      ]
     },
     "execution_count": 10,
     "metadata": {},
     "output_type": "execute_result"
    }
   ],
   "source": [
    "y/x"
   ]
  },
  {
   "cell_type": "code",
   "execution_count": 12,
   "id": "2b718a06",
   "metadata": {},
   "outputs": [],
   "source": [
    "b='goodbye'"
   ]
  },
  {
   "cell_type": "code",
   "execution_count": 13,
   "id": "b27eeff8",
   "metadata": {},
   "outputs": [],
   "source": [
    "a='hello'"
   ]
  },
  {
   "cell_type": "code",
   "execution_count": 14,
   "id": "4a465ca4",
   "metadata": {},
   "outputs": [
    {
     "data": {
      "text/plain": [
       "'hellogoodbye'"
      ]
     },
     "execution_count": 14,
     "metadata": {},
     "output_type": "execute_result"
    }
   ],
   "source": [
    "a+b"
   ]
  },
  {
   "cell_type": "code",
   "execution_count": 15,
   "id": "4054fbff",
   "metadata": {},
   "outputs": [],
   "source": [
    "c='I am typing code.'"
   ]
  },
  {
   "cell_type": "code",
   "execution_count": 16,
   "id": "e8078f2e",
   "metadata": {},
   "outputs": [],
   "source": [
    "d=' I am using Jupyter to do so.'"
   ]
  },
  {
   "cell_type": "code",
   "execution_count": 17,
   "id": "87ce1532",
   "metadata": {},
   "outputs": [
    {
     "data": {
      "text/plain": [
       "'I am typing code. I am using Jupyter to do so.'"
      ]
     },
     "execution_count": 17,
     "metadata": {},
     "output_type": "execute_result"
    }
   ],
   "source": [
    "c+d"
   ]
  },
  {
   "cell_type": "code",
   "execution_count": null,
   "id": "8987d2b5",
   "metadata": {},
   "outputs": [],
   "source": []
  }
 ],
 "metadata": {
  "kernelspec": {
   "display_name": "Python 3 (ipykernel)",
   "language": "python",
   "name": "python3"
  },
  "language_info": {
   "codemirror_mode": {
    "name": "ipython",
    "version": 3
   },
   "file_extension": ".py",
   "mimetype": "text/x-python",
   "name": "python",
   "nbconvert_exporter": "python",
   "pygments_lexer": "ipython3",
   "version": "3.11.4"
  }
 },
 "nbformat": 4,
 "nbformat_minor": 5
}
