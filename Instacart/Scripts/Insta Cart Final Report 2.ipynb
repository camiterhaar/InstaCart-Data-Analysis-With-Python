{
 "cells": [
  {
   "cell_type": "code",
   "execution_count": 1,
   "id": "b20c2c75",
   "metadata": {},
   "outputs": [],
   "source": [
    "# Import Libraries\n",
    "import pandas as pd\n",
    "import numpy as np\n",
    "import os\n",
    "import matplotlib.pyplot as plt\n",
    "import seaborn as sns\n",
    "import scipy"
   ]
  },
  {
   "cell_type": "code",
   "execution_count": 2,
   "id": "2751c8fd",
   "metadata": {},
   "outputs": [],
   "source": [
    "# Create path\n",
    "path=r'C:\\Users\\jerem\\anaconda\\Instacart\\Data'"
   ]
  },
  {
   "cell_type": "code",
   "execution_count": 3,
   "id": "5987ea67",
   "metadata": {},
   "outputs": [],
   "source": [
    "# Import data\n",
    "norm_act=pd.read_pickle(r'C:\\Users\\jerem\\anaconda\\Instacart\\Data\\normal_activity.pkl')"
   ]
  },
  {
   "cell_type": "code",
   "execution_count": 4,
   "id": "881047ef",
   "metadata": {},
   "outputs": [
    {
     "data": {
      "text/plain": [
       "count    3.096456e+07\n",
       "mean     4.946803e+01\n",
       "std      1.848528e+01\n",
       "min      1.800000e+01\n",
       "25%      3.300000e+01\n",
       "50%      4.900000e+01\n",
       "75%      6.500000e+01\n",
       "max      8.100000e+01\n",
       "Name: Age, dtype: float64"
      ]
     },
     "execution_count": 4,
     "metadata": {},
     "output_type": "execute_result"
    }
   ],
   "source": [
    "# Create profile based on age\n",
    "norm_act['Age'].describe()"
   ]
  },
  {
   "cell_type": "code",
   "execution_count": 4,
   "id": "a61d776d",
   "metadata": {},
   "outputs": [],
   "source": [
    "norm_act.loc[(norm_act['Age'] >= 18) & (norm_act['Age'] <35), 'age_group']= 'Younger'"
   ]
  },
  {
   "cell_type": "code",
   "execution_count": 5,
   "id": "e8317ce1",
   "metadata": {},
   "outputs": [],
   "source": [
    "norm_act.loc[(norm_act['Age'] >= 35) & (norm_act['Age'] <60), 'age_group']= 'Middle'"
   ]
  },
  {
   "cell_type": "code",
   "execution_count": 6,
   "id": "f2345fcc",
   "metadata": {},
   "outputs": [],
   "source": [
    "norm_act.loc[norm_act['Age'] >= 60, 'age_group']= 'Older'"
   ]
  },
  {
   "cell_type": "code",
   "execution_count": 8,
   "id": "ffbd25ed",
   "metadata": {},
   "outputs": [
    {
     "data": {
      "text/plain": [
       "count     30964564\n",
       "unique           3\n",
       "top         Middle\n",
       "freq      12147765\n",
       "Name: age_group, dtype: object"
      ]
     },
     "execution_count": 8,
     "metadata": {},
     "output_type": "execute_result"
    }
   ],
   "source": [
    "norm_act['age_group'].describe()"
   ]
  },
  {
   "cell_type": "code",
   "execution_count": 9,
   "id": "f25da269",
   "metadata": {},
   "outputs": [
    {
     "data": {
      "text/plain": [
       "count    3.096456e+07\n",
       "mean     9.967587e+04\n",
       "std      4.314187e+04\n",
       "min      2.590300e+04\n",
       "25%      6.729200e+04\n",
       "50%      9.676500e+04\n",
       "75%      1.281020e+05\n",
       "max      5.939010e+05\n",
       "Name: income, dtype: float64"
      ]
     },
     "execution_count": 9,
     "metadata": {},
     "output_type": "execute_result"
    }
   ],
   "source": [
    "# Create profile based on income\n",
    "norm_act['income'].describe()"
   ]
  },
  {
   "cell_type": "code",
   "execution_count": 10,
   "id": "77e30bc8",
   "metadata": {},
   "outputs": [],
   "source": [
    "norm_act.loc[(norm_act['income'] <67292), 'income_group']= 'Lower income'"
   ]
  },
  {
   "cell_type": "code",
   "execution_count": 15,
   "id": "4a05398a",
   "metadata": {},
   "outputs": [],
   "source": [
    "norm_act.loc[(norm_act['income'] >= 67292) & (norm_act['income'] < 96765), 'income_group']= 'Mid income'"
   ]
  },
  {
   "cell_type": "code",
   "execution_count": 16,
   "id": "d313849e",
   "metadata": {},
   "outputs": [],
   "source": [
    "norm_act.loc[(norm_act['income'] >= 96765) & (norm_act['income'] < 128102), 'income_group']= 'Upper income'"
   ]
  },
  {
   "cell_type": "code",
   "execution_count": 17,
   "id": "af26ed4c",
   "metadata": {},
   "outputs": [],
   "source": [
    "norm_act.loc[(norm_act['income'] >= 128102), 'income_group']= 'High income'"
   ]
  },
  {
   "cell_type": "code",
   "execution_count": 18,
   "id": "91d457e8",
   "metadata": {},
   "outputs": [
    {
     "data": {
      "text/plain": [
       "count         30964564\n",
       "unique               4\n",
       "top       Upper income\n",
       "freq           7742166\n",
       "Name: income_group, dtype: object"
      ]
     },
     "execution_count": 18,
     "metadata": {},
     "output_type": "execute_result"
    }
   ],
   "source": [
    "norm_act['income_group'].describe()"
   ]
  },
  {
   "cell_type": "code",
   "execution_count": 7,
   "id": "280963b6",
   "metadata": {},
   "outputs": [],
   "source": [
    "# Create profile based on department id\n",
    "df_dep=pd.read_csv(r'C:\\Users\\jerem\\anaconda\\Instacart\\Data\\departments.csv', index_col = False)"
   ]
  },
  {
   "cell_type": "code",
   "execution_count": 25,
   "id": "374caaad",
   "metadata": {},
   "outputs": [
    {
     "data": {
      "text/html": [
       "<div>\n",
       "<style scoped>\n",
       "    .dataframe tbody tr th:only-of-type {\n",
       "        vertical-align: middle;\n",
       "    }\n",
       "\n",
       "    .dataframe tbody tr th {\n",
       "        vertical-align: top;\n",
       "    }\n",
       "\n",
       "    .dataframe thead th {\n",
       "        text-align: right;\n",
       "    }\n",
       "</style>\n",
       "<table border=\"1\" class=\"dataframe\">\n",
       "  <thead>\n",
       "    <tr style=\"text-align: right;\">\n",
       "      <th></th>\n",
       "      <th>Unnamed: 0</th>\n",
       "      <th>department</th>\n",
       "    </tr>\n",
       "  </thead>\n",
       "  <tbody>\n",
       "    <tr>\n",
       "      <th>0</th>\n",
       "      <td>1</td>\n",
       "      <td>frozen</td>\n",
       "    </tr>\n",
       "    <tr>\n",
       "      <th>1</th>\n",
       "      <td>2</td>\n",
       "      <td>other</td>\n",
       "    </tr>\n",
       "    <tr>\n",
       "      <th>2</th>\n",
       "      <td>3</td>\n",
       "      <td>bakery</td>\n",
       "    </tr>\n",
       "    <tr>\n",
       "      <th>3</th>\n",
       "      <td>4</td>\n",
       "      <td>produce</td>\n",
       "    </tr>\n",
       "    <tr>\n",
       "      <th>4</th>\n",
       "      <td>5</td>\n",
       "      <td>alcohol</td>\n",
       "    </tr>\n",
       "  </tbody>\n",
       "</table>\n",
       "</div>"
      ],
      "text/plain": [
       "   Unnamed: 0 department\n",
       "0           1     frozen\n",
       "1           2      other\n",
       "2           3     bakery\n",
       "3           4    produce\n",
       "4           5    alcohol"
      ]
     },
     "execution_count": 25,
     "metadata": {},
     "output_type": "execute_result"
    }
   ],
   "source": [
    "df_dep.head()"
   ]
  },
  {
   "cell_type": "code",
   "execution_count": 8,
   "id": "ee2955e8",
   "metadata": {},
   "outputs": [],
   "source": [
    "df_dep.rename(columns= {'Unnamed: 0' : 'department_id'}, inplace= True)"
   ]
  },
  {
   "cell_type": "code",
   "execution_count": 9,
   "id": "a377f8d3",
   "metadata": {},
   "outputs": [],
   "source": [
    "norm_act_d=norm_act.merge(df_dep, on = ['department_id'])"
   ]
  },
  {
   "cell_type": "code",
   "execution_count": 30,
   "id": "53d58963",
   "metadata": {},
   "outputs": [
    {
     "data": {
      "text/plain": [
       "count    3.096456e+07\n",
       "mean     1.501819e+00\n",
       "std      1.118896e+00\n",
       "min      0.000000e+00\n",
       "25%      1.000000e+00\n",
       "50%      2.000000e+00\n",
       "75%      3.000000e+00\n",
       "max      3.000000e+00\n",
       "Name: n_dependants, dtype: float64"
      ]
     },
     "execution_count": 30,
     "metadata": {},
     "output_type": "execute_result"
    }
   ],
   "source": [
    "# Create customer profile based on dependants\n",
    "norm_act_d['n_dependants'].describe()"
   ]
  },
  {
   "cell_type": "code",
   "execution_count": 31,
   "id": "b9674e27",
   "metadata": {},
   "outputs": [],
   "source": [
    "norm_act_d.loc[(norm_act_d['n_dependants'] < 1), 'fam_size']= 'No dependants'"
   ]
  },
  {
   "cell_type": "code",
   "execution_count": 32,
   "id": "e205ffe8",
   "metadata": {},
   "outputs": [],
   "source": [
    "norm_act_d.loc[(norm_act_d['n_dependants'] >= 1) & (norm_act_d['n_dependants'] <= 2), 'fam_size']= 'Small'"
   ]
  },
  {
   "cell_type": "code",
   "execution_count": 35,
   "id": "128d1adb",
   "metadata": {},
   "outputs": [],
   "source": [
    "norm_act_d.loc[(norm_act_d['n_dependants'] == 3), 'fam_size']= 'Large'"
   ]
  },
  {
   "cell_type": "code",
   "execution_count": 42,
   "id": "f2237521",
   "metadata": {},
   "outputs": [
    {
     "data": {
      "image/png": "[encoded data removed]",
      "text/plain": [
       "<Figure size 640x480 with 1 Axes>"
      ]
     },
     "metadata": {},
     "output_type": "display_data"
    }
   ],
   "source": [
    "# Create visualization of age and income\n",
    "scatter= sns.scatterplot(x = 'Age', y = 'income',data = norm_act_d)"
   ]
  },
  {
   "cell_type": "code",
   "execution_count": 43,
   "id": "dff63579",
   "metadata": {},
   "outputs": [
    {
     "data": {
      "text/plain": [
       "Index(['order_id', 'user_id', 'order_number', 'orders_day_of_week',\n",
       "       'time_of_order', 'days_since_prior_order', 'department_id',\n",
       "       'price_range_loc', 'busiest_day', 'busiest_days', 'most_orders',\n",
       "       'max_order', 'loyalty_flag', 'avg_price', 'spending_flag', 'order_freq',\n",
       "       'frequency_flag', 'Gender', 'State', 'Age', 'n_dependants',\n",
       "       'fam_status', 'income', 'Region', 'activity_flag', 'age_group',\n",
       "       'income_group', 'department', 'fam_size'],\n",
       "      dtype='object')"
      ]
     },
     "execution_count": 43,
     "metadata": {},
     "output_type": "execute_result"
    }
   ],
   "source": [
    "# Aggregate max, mean, and min on profiles for frequency and spending\n",
    "norm_act_d.columns"
   ]
  },
  {
   "cell_type": "code",
   "execution_count": 45,
   "id": "054e6d3e",
   "metadata": {},
   "outputs": [
    {
     "data": {
      "text/html": [
       "<div>\n",
       "<style scoped>\n",
       "    .dataframe tbody tr th:only-of-type {\n",
       "        vertical-align: middle;\n",
       "    }\n",
       "\n",
       "    .dataframe tbody tr th {\n",
       "        vertical-align: top;\n",
       "    }\n",
       "\n",
       "    .dataframe thead tr th {\n",
       "        text-align: left;\n",
       "    }\n",
       "\n",
       "    .dataframe thead tr:last-of-type th {\n",
       "        text-align: right;\n",
       "    }\n",
       "</style>\n",
       "<table border=\"1\" class=\"dataframe\">\n",
       "  <thead>\n",
       "    <tr>\n",
       "      <th></th>\n",
       "      <th colspan=\"3\" halign=\"left\">order_number</th>\n",
       "      <th colspan=\"3\" halign=\"left\">avg_price</th>\n",
       "    </tr>\n",
       "    <tr>\n",
       "      <th></th>\n",
       "      <th>mean</th>\n",
       "      <th>max</th>\n",
       "      <th>min</th>\n",
       "      <th>mean</th>\n",
       "      <th>max</th>\n",
       "      <th>min</th>\n",
       "    </tr>\n",
       "    <tr>\n",
       "      <th>age_group</th>\n",
       "      <th></th>\n",
       "      <th></th>\n",
       "      <th></th>\n",
       "      <th></th>\n",
       "      <th></th>\n",
       "      <th></th>\n",
       "    </tr>\n",
       "  </thead>\n",
       "  <tbody>\n",
       "    <tr>\n",
       "      <th>Middle</th>\n",
       "      <td>17.869559</td>\n",
       "      <td>99</td>\n",
       "      <td>1</td>\n",
       "      <td>11.979510</td>\n",
       "      <td>15006.940000</td>\n",
       "      <td>1.000000</td>\n",
       "    </tr>\n",
       "    <tr>\n",
       "      <th>Older</th>\n",
       "      <td>17.807616</td>\n",
       "      <td>99</td>\n",
       "      <td>1</td>\n",
       "      <td>11.724449</td>\n",
       "      <td>14042.512281</td>\n",
       "      <td>1.262500</td>\n",
       "    </tr>\n",
       "    <tr>\n",
       "      <th>Younger</th>\n",
       "      <td>17.815972</td>\n",
       "      <td>99</td>\n",
       "      <td>1</td>\n",
       "      <td>12.133971</td>\n",
       "      <td>10209.987755</td>\n",
       "      <td>1.628571</td>\n",
       "    </tr>\n",
       "  </tbody>\n",
       "</table>\n",
       "</div>"
      ],
      "text/plain": [
       "          order_number          avg_price                        \n",
       "                  mean max min       mean           max       min\n",
       "age_group                                                        \n",
       "Middle       17.869559  99   1  11.979510  15006.940000  1.000000\n",
       "Older        17.807616  99   1  11.724449  14042.512281  1.262500\n",
       "Younger      17.815972  99   1  12.133971  10209.987755  1.628571"
      ]
     },
     "execution_count": 45,
     "metadata": {},
     "output_type": "execute_result"
    }
   ],
   "source": [
    "# Aggregate max, mean, and min on profiles for frequency and spending\n",
    "norm_act_d.groupby('age_group').agg({'order_number': ['mean','max','min'], 'avg_price': ['mean','max','min']})"
   ]
  },
  {
   "cell_type": "code",
   "execution_count": 46,
   "id": "58f62e15",
   "metadata": {},
   "outputs": [
    {
     "data": {
      "text/html": [
       "<div>\n",
       "<style scoped>\n",
       "    .dataframe tbody tr th:only-of-type {\n",
       "        vertical-align: middle;\n",
       "    }\n",
       "\n",
       "    .dataframe tbody tr th {\n",
       "        vertical-align: top;\n",
       "    }\n",
       "\n",
       "    .dataframe thead tr th {\n",
       "        text-align: left;\n",
       "    }\n",
       "\n",
       "    .dataframe thead tr:last-of-type th {\n",
       "        text-align: right;\n",
       "    }\n",
       "</style>\n",
       "<table border=\"1\" class=\"dataframe\">\n",
       "  <thead>\n",
       "    <tr>\n",
       "      <th></th>\n",
       "      <th colspan=\"3\" halign=\"left\">order_number</th>\n",
       "      <th colspan=\"3\" halign=\"left\">avg_price</th>\n",
       "    </tr>\n",
       "    <tr>\n",
       "      <th></th>\n",
       "      <th>mean</th>\n",
       "      <th>max</th>\n",
       "      <th>min</th>\n",
       "      <th>mean</th>\n",
       "      <th>max</th>\n",
       "      <th>min</th>\n",
       "    </tr>\n",
       "    <tr>\n",
       "      <th>income_group</th>\n",
       "      <th></th>\n",
       "      <th></th>\n",
       "      <th></th>\n",
       "      <th></th>\n",
       "      <th></th>\n",
       "      <th></th>\n",
       "    </tr>\n",
       "  </thead>\n",
       "  <tbody>\n",
       "    <tr>\n",
       "      <th>High income</th>\n",
       "      <td>17.940294</td>\n",
       "      <td>99</td>\n",
       "      <td>1</td>\n",
       "      <td>21.980538</td>\n",
       "      <td>15006.940000</td>\n",
       "      <td>7.0</td>\n",
       "    </tr>\n",
       "    <tr>\n",
       "      <th>Lower income</th>\n",
       "      <td>17.477045</td>\n",
       "      <td>99</td>\n",
       "      <td>1</td>\n",
       "      <td>7.310041</td>\n",
       "      <td>22.256974</td>\n",
       "      <td>1.0</td>\n",
       "    </tr>\n",
       "    <tr>\n",
       "      <th>Mid income</th>\n",
       "      <td>18.092588</td>\n",
       "      <td>99</td>\n",
       "      <td>1</td>\n",
       "      <td>8.705371</td>\n",
       "      <td>3453.431034</td>\n",
       "      <td>7.0</td>\n",
       "    </tr>\n",
       "    <tr>\n",
       "      <th>Upper income</th>\n",
       "      <td>17.826665</td>\n",
       "      <td>99</td>\n",
       "      <td>1</td>\n",
       "      <td>9.737767</td>\n",
       "      <td>5135.893590</td>\n",
       "      <td>7.0</td>\n",
       "    </tr>\n",
       "  </tbody>\n",
       "</table>\n",
       "</div>"
      ],
      "text/plain": [
       "             order_number          avg_price                   \n",
       "                     mean max min       mean           max  min\n",
       "income_group                                                   \n",
       "High income     17.940294  99   1  21.980538  15006.940000  7.0\n",
       "Lower income    17.477045  99   1   7.310041     22.256974  1.0\n",
       "Mid income      18.092588  99   1   8.705371   3453.431034  7.0\n",
       "Upper income    17.826665  99   1   9.737767   5135.893590  7.0"
      ]
     },
     "execution_count": 46,
     "metadata": {},
     "output_type": "execute_result"
    }
   ],
   "source": [
    "norm_act_d.groupby('income_group').agg({'order_number': ['mean','max','min'], 'avg_price': ['mean','max','min']})"
   ]
  },
  {
   "cell_type": "code",
   "execution_count": 47,
   "id": "6de392eb",
   "metadata": {},
   "outputs": [
    {
     "data": {
      "text/html": [
       "<div>\n",
       "<style scoped>\n",
       "    .dataframe tbody tr th:only-of-type {\n",
       "        vertical-align: middle;\n",
       "    }\n",
       "\n",
       "    .dataframe tbody tr th {\n",
       "        vertical-align: top;\n",
       "    }\n",
       "\n",
       "    .dataframe thead tr th {\n",
       "        text-align: left;\n",
       "    }\n",
       "\n",
       "    .dataframe thead tr:last-of-type th {\n",
       "        text-align: right;\n",
       "    }\n",
       "</style>\n",
       "<table border=\"1\" class=\"dataframe\">\n",
       "  <thead>\n",
       "    <tr>\n",
       "      <th></th>\n",
       "      <th colspan=\"3\" halign=\"left\">order_number</th>\n",
       "      <th colspan=\"3\" halign=\"left\">avg_price</th>\n",
       "    </tr>\n",
       "    <tr>\n",
       "      <th></th>\n",
       "      <th>mean</th>\n",
       "      <th>max</th>\n",
       "      <th>min</th>\n",
       "      <th>mean</th>\n",
       "      <th>max</th>\n",
       "      <th>min</th>\n",
       "    </tr>\n",
       "    <tr>\n",
       "      <th>fam_size</th>\n",
       "      <th></th>\n",
       "      <th></th>\n",
       "      <th></th>\n",
       "      <th></th>\n",
       "      <th></th>\n",
       "      <th></th>\n",
       "    </tr>\n",
       "  </thead>\n",
       "  <tbody>\n",
       "    <tr>\n",
       "      <th>Large</th>\n",
       "      <td>17.837412</td>\n",
       "      <td>99</td>\n",
       "      <td>1</td>\n",
       "      <td>11.791609</td>\n",
       "      <td>10209.987755</td>\n",
       "      <td>1.2625</td>\n",
       "    </tr>\n",
       "    <tr>\n",
       "      <th>No dependants</th>\n",
       "      <td>17.957922</td>\n",
       "      <td>99</td>\n",
       "      <td>1</td>\n",
       "      <td>12.102657</td>\n",
       "      <td>15006.940000</td>\n",
       "      <td>1.0000</td>\n",
       "    </tr>\n",
       "    <tr>\n",
       "      <th>Small</th>\n",
       "      <td>17.770497</td>\n",
       "      <td>99</td>\n",
       "      <td>1</td>\n",
       "      <td>11.920187</td>\n",
       "      <td>6983.593023</td>\n",
       "      <td>1.0000</td>\n",
       "    </tr>\n",
       "  </tbody>\n",
       "</table>\n",
       "</div>"
      ],
      "text/plain": [
       "              order_number          avg_price                      \n",
       "                      mean max min       mean           max     min\n",
       "fam_size                                                           \n",
       "Large            17.837412  99   1  11.791609  10209.987755  1.2625\n",
       "No dependants    17.957922  99   1  12.102657  15006.940000  1.0000\n",
       "Small            17.770497  99   1  11.920187   6983.593023  1.0000"
      ]
     },
     "execution_count": 47,
     "metadata": {},
     "output_type": "execute_result"
    }
   ],
   "source": [
    "norm_act_d.groupby('fam_size').agg({'order_number': ['mean','max','min'], 'avg_price': ['mean','max','min']})"
   ]
  },
  {
   "cell_type": "code",
   "execution_count": 52,
   "id": "79be4952",
   "metadata": {},
   "outputs": [],
   "source": [
    "# Compare customer profiles with regions and departments\n",
    "age_region= pd.crosstab(norm_act_d['age_group'], norm_act_d['Region'].sort_values(), dropna = False)"
   ]
  },
  {
   "cell_type": "code",
   "execution_count": 53,
   "id": "d019c7c3",
   "metadata": {},
   "outputs": [
    {
     "data": {
      "text/html": [
       "<div>\n",
       "<style scoped>\n",
       "    .dataframe tbody tr th:only-of-type {\n",
       "        vertical-align: middle;\n",
       "    }\n",
       "\n",
       "    .dataframe tbody tr th {\n",
       "        vertical-align: top;\n",
       "    }\n",
       "\n",
       "    .dataframe thead th {\n",
       "        text-align: right;\n",
       "    }\n",
       "</style>\n",
       "<table border=\"1\" class=\"dataframe\">\n",
       "  <thead>\n",
       "    <tr style=\"text-align: right;\">\n",
       "      <th>Region</th>\n",
       "      <th>Midwest</th>\n",
       "      <th>Northeast</th>\n",
       "      <th>South</th>\n",
       "      <th>West</th>\n",
       "    </tr>\n",
       "    <tr>\n",
       "      <th>age_group</th>\n",
       "      <th></th>\n",
       "      <th></th>\n",
       "      <th></th>\n",
       "      <th></th>\n",
       "    </tr>\n",
       "  </thead>\n",
       "  <tbody>\n",
       "    <tr>\n",
       "      <th>Middle</th>\n",
       "      <td>2894197</td>\n",
       "      <td>2112381</td>\n",
       "      <td>4021260</td>\n",
       "      <td>3119927</td>\n",
       "    </tr>\n",
       "    <tr>\n",
       "      <th>Older</th>\n",
       "      <td>2455443</td>\n",
       "      <td>1884229</td>\n",
       "      <td>3521421</td>\n",
       "      <td>2713411</td>\n",
       "    </tr>\n",
       "    <tr>\n",
       "      <th>Younger</th>\n",
       "      <td>1911873</td>\n",
       "      <td>1468075</td>\n",
       "      <td>2768458</td>\n",
       "      <td>2093889</td>\n",
       "    </tr>\n",
       "  </tbody>\n",
       "</table>\n",
       "</div>"
      ],
      "text/plain": [
       "Region     Midwest  Northeast    South     West\n",
       "age_group                                      \n",
       "Middle     2894197    2112381  4021260  3119927\n",
       "Older      2455443    1884229  3521421  2713411\n",
       "Younger    1911873    1468075  2768458  2093889"
      ]
     },
     "execution_count": 53,
     "metadata": {},
     "output_type": "execute_result"
    }
   ],
   "source": [
    "age_region"
   ]
  },
  {
   "cell_type": "code",
   "execution_count": 13,
   "id": "66a9c7d9",
   "metadata": {},
   "outputs": [],
   "source": [
    "age_dep= pd.crosstab(norm_act_d['department'], norm_act_d['age_group'].sort_values(), dropna = False)"
   ]
  },
  {
   "cell_type": "code",
   "execution_count": 14,
   "id": "cf578af7",
   "metadata": {},
   "outputs": [
    {
     "data": {
      "text/html": [
       "<div>\n",
       "<style scoped>\n",
       "    .dataframe tbody tr th:only-of-type {\n",
       "        vertical-align: middle;\n",
       "    }\n",
       "\n",
       "    .dataframe tbody tr th {\n",
       "        vertical-align: top;\n",
       "    }\n",
       "\n",
       "    .dataframe thead th {\n",
       "        text-align: right;\n",
       "    }\n",
       "</style>\n",
       "<table border=\"1\" class=\"dataframe\">\n",
       "  <thead>\n",
       "    <tr style=\"text-align: right;\">\n",
       "      <th>age_group</th>\n",
       "      <th>Middle</th>\n",
       "      <th>Older</th>\n",
       "      <th>Younger</th>\n",
       "    </tr>\n",
       "    <tr>\n",
       "      <th>department</th>\n",
       "      <th></th>\n",
       "      <th></th>\n",
       "      <th></th>\n",
       "    </tr>\n",
       "  </thead>\n",
       "  <tbody>\n",
       "    <tr>\n",
       "      <th>alcohol</th>\n",
       "      <td>56814</td>\n",
       "      <td>47596</td>\n",
       "      <td>40217</td>\n",
       "    </tr>\n",
       "    <tr>\n",
       "      <th>babies</th>\n",
       "      <td>164354</td>\n",
       "      <td>138738</td>\n",
       "      <td>107300</td>\n",
       "    </tr>\n",
       "    <tr>\n",
       "      <th>bakery</th>\n",
       "      <td>439661</td>\n",
       "      <td>382446</td>\n",
       "      <td>298721</td>\n",
       "    </tr>\n",
       "    <tr>\n",
       "      <th>beverages</th>\n",
       "      <td>1011215</td>\n",
       "      <td>883669</td>\n",
       "      <td>677017</td>\n",
       "    </tr>\n",
       "    <tr>\n",
       "      <th>breakfast</th>\n",
       "      <td>262776</td>\n",
       "      <td>227751</td>\n",
       "      <td>180323</td>\n",
       "    </tr>\n",
       "    <tr>\n",
       "      <th>bulk</th>\n",
       "      <td>13006</td>\n",
       "      <td>11424</td>\n",
       "      <td>9021</td>\n",
       "    </tr>\n",
       "    <tr>\n",
       "      <th>canned goods</th>\n",
       "      <td>396842</td>\n",
       "      <td>344447</td>\n",
       "      <td>270785</td>\n",
       "    </tr>\n",
       "    <tr>\n",
       "      <th>dairy eggs</th>\n",
       "      <td>2028369</td>\n",
       "      <td>1762512</td>\n",
       "      <td>1386301</td>\n",
       "    </tr>\n",
       "    <tr>\n",
       "      <th>deli</th>\n",
       "      <td>394029</td>\n",
       "      <td>343335</td>\n",
       "      <td>266470</td>\n",
       "    </tr>\n",
       "    <tr>\n",
       "      <th>dry goods pasta</th>\n",
       "      <td>322291</td>\n",
       "      <td>280102</td>\n",
       "      <td>219743</td>\n",
       "    </tr>\n",
       "    <tr>\n",
       "      <th>frozen</th>\n",
       "      <td>831204</td>\n",
       "      <td>728963</td>\n",
       "      <td>561564</td>\n",
       "    </tr>\n",
       "    <tr>\n",
       "      <th>household</th>\n",
       "      <td>274850</td>\n",
       "      <td>240635</td>\n",
       "      <td>184372</td>\n",
       "    </tr>\n",
       "    <tr>\n",
       "      <th>international</th>\n",
       "      <td>100442</td>\n",
       "      <td>86448</td>\n",
       "      <td>69101</td>\n",
       "    </tr>\n",
       "    <tr>\n",
       "      <th>meat seafood</th>\n",
       "      <td>262971</td>\n",
       "      <td>232752</td>\n",
       "      <td>179058</td>\n",
       "    </tr>\n",
       "    <tr>\n",
       "      <th>missing</th>\n",
       "      <td>25228</td>\n",
       "      <td>21787</td>\n",
       "      <td>17753</td>\n",
       "    </tr>\n",
       "    <tr>\n",
       "      <th>other</th>\n",
       "      <td>13365</td>\n",
       "      <td>11604</td>\n",
       "      <td>9442</td>\n",
       "    </tr>\n",
       "    <tr>\n",
       "      <th>pantry</th>\n",
       "      <td>698279</td>\n",
       "      <td>609961</td>\n",
       "      <td>474465</td>\n",
       "    </tr>\n",
       "    <tr>\n",
       "      <th>personal care</th>\n",
       "      <td>168404</td>\n",
       "      <td>143728</td>\n",
       "      <td>112174</td>\n",
       "    </tr>\n",
       "    <tr>\n",
       "      <th>pets</th>\n",
       "      <td>36165</td>\n",
       "      <td>31755</td>\n",
       "      <td>25140</td>\n",
       "    </tr>\n",
       "    <tr>\n",
       "      <th>produce</th>\n",
       "      <td>3562053</td>\n",
       "      <td>3104118</td>\n",
       "      <td>2413102</td>\n",
       "    </tr>\n",
       "    <tr>\n",
       "      <th>snacks</th>\n",
       "      <td>1085447</td>\n",
       "      <td>940733</td>\n",
       "      <td>740226</td>\n",
       "    </tr>\n",
       "  </tbody>\n",
       "</table>\n",
       "</div>"
      ],
      "text/plain": [
       "age_group         Middle    Older  Younger\n",
       "department                                \n",
       "alcohol            56814    47596    40217\n",
       "babies            164354   138738   107300\n",
       "bakery            439661   382446   298721\n",
       "beverages        1011215   883669   677017\n",
       "breakfast         262776   227751   180323\n",
       "bulk               13006    11424     9021\n",
       "canned goods      396842   344447   270785\n",
       "dairy eggs       2028369  1762512  1386301\n",
       "deli              394029   343335   266470\n",
       "dry goods pasta   322291   280102   219743\n",
       "frozen            831204   728963   561564\n",
       "household         274850   240635   184372\n",
       "international     100442    86448    69101\n",
       "meat seafood      262971   232752   179058\n",
       "missing            25228    21787    17753\n",
       "other              13365    11604     9442\n",
       "pantry            698279   609961   474465\n",
       "personal care     168404   143728   112174\n",
       "pets               36165    31755    25140\n",
       "produce          3562053  3104118  2413102\n",
       "snacks           1085447   940733   740226"
      ]
     },
     "execution_count": 14,
     "metadata": {},
     "output_type": "execute_result"
    }
   ],
   "source": [
    "age_dep"
   ]
  },
  {
   "cell_type": "code",
   "execution_count": 54,
   "id": "be8831f8",
   "metadata": {},
   "outputs": [],
   "source": [
    "inc_region= pd.crosstab(norm_act_d['income_group'], norm_act_d['Region'].sort_values(), dropna = False)"
   ]
  },
  {
   "cell_type": "code",
   "execution_count": 55,
   "id": "3230f073",
   "metadata": {},
   "outputs": [
    {
     "data": {
      "text/html": [
       "<div>\n",
       "<style scoped>\n",
       "    .dataframe tbody tr th:only-of-type {\n",
       "        vertical-align: middle;\n",
       "    }\n",
       "\n",
       "    .dataframe tbody tr th {\n",
       "        vertical-align: top;\n",
       "    }\n",
       "\n",
       "    .dataframe thead th {\n",
       "        text-align: right;\n",
       "    }\n",
       "</style>\n",
       "<table border=\"1\" class=\"dataframe\">\n",
       "  <thead>\n",
       "    <tr style=\"text-align: right;\">\n",
       "      <th>Region</th>\n",
       "      <th>Midwest</th>\n",
       "      <th>Northeast</th>\n",
       "      <th>South</th>\n",
       "      <th>West</th>\n",
       "    </tr>\n",
       "    <tr>\n",
       "      <th>income_group</th>\n",
       "      <th></th>\n",
       "      <th></th>\n",
       "      <th></th>\n",
       "      <th></th>\n",
       "    </tr>\n",
       "  </thead>\n",
       "  <tbody>\n",
       "    <tr>\n",
       "      <th>High income</th>\n",
       "      <td>1841900</td>\n",
       "      <td>1372838</td>\n",
       "      <td>2549267</td>\n",
       "      <td>1977256</td>\n",
       "    </tr>\n",
       "    <tr>\n",
       "      <th>Lower income</th>\n",
       "      <td>1790670</td>\n",
       "      <td>1367074</td>\n",
       "      <td>2593220</td>\n",
       "      <td>1990041</td>\n",
       "    </tr>\n",
       "    <tr>\n",
       "      <th>Mid income</th>\n",
       "      <td>1777672</td>\n",
       "      <td>1355693</td>\n",
       "      <td>2639115</td>\n",
       "      <td>1967652</td>\n",
       "    </tr>\n",
       "    <tr>\n",
       "      <th>Upper income</th>\n",
       "      <td>1851271</td>\n",
       "      <td>1369080</td>\n",
       "      <td>2529537</td>\n",
       "      <td>1992278</td>\n",
       "    </tr>\n",
       "  </tbody>\n",
       "</table>\n",
       "</div>"
      ],
      "text/plain": [
       "Region        Midwest  Northeast    South     West\n",
       "income_group                                      \n",
       "High income   1841900    1372838  2549267  1977256\n",
       "Lower income  1790670    1367074  2593220  1990041\n",
       "Mid income    1777672    1355693  2639115  1967652\n",
       "Upper income  1851271    1369080  2529537  1992278"
      ]
     },
     "execution_count": 55,
     "metadata": {},
     "output_type": "execute_result"
    }
   ],
   "source": [
    "inc_region"
   ]
  },
  {
   "cell_type": "code",
   "execution_count": 58,
   "id": "6bf9e97a",
   "metadata": {},
   "outputs": [],
   "source": [
    "inc_dep= pd.crosstab(norm_act_d['age_group'], norm_act_d['department'].sort_values(), dropna = False)"
   ]
  },
  {
   "cell_type": "code",
   "execution_count": 59,
   "id": "89e1278a",
   "metadata": {},
   "outputs": [
    {
     "data": {
      "text/html": [
       "<div>\n",
       "<style scoped>\n",
       "    .dataframe tbody tr th:only-of-type {\n",
       "        vertical-align: middle;\n",
       "    }\n",
       "\n",
       "    .dataframe tbody tr th {\n",
       "        vertical-align: top;\n",
       "    }\n",
       "\n",
       "    .dataframe thead th {\n",
       "        text-align: right;\n",
       "    }\n",
       "</style>\n",
       "<table border=\"1\" class=\"dataframe\">\n",
       "  <thead>\n",
       "    <tr style=\"text-align: right;\">\n",
       "      <th>department</th>\n",
       "      <th>alcohol</th>\n",
       "      <th>babies</th>\n",
       "      <th>bakery</th>\n",
       "      <th>beverages</th>\n",
       "      <th>breakfast</th>\n",
       "      <th>bulk</th>\n",
       "      <th>canned goods</th>\n",
       "      <th>dairy eggs</th>\n",
       "      <th>deli</th>\n",
       "      <th>dry goods pasta</th>\n",
       "      <th>...</th>\n",
       "      <th>household</th>\n",
       "      <th>international</th>\n",
       "      <th>meat seafood</th>\n",
       "      <th>missing</th>\n",
       "      <th>other</th>\n",
       "      <th>pantry</th>\n",
       "      <th>personal care</th>\n",
       "      <th>pets</th>\n",
       "      <th>produce</th>\n",
       "      <th>snacks</th>\n",
       "    </tr>\n",
       "    <tr>\n",
       "      <th>age_group</th>\n",
       "      <th></th>\n",
       "      <th></th>\n",
       "      <th></th>\n",
       "      <th></th>\n",
       "      <th></th>\n",
       "      <th></th>\n",
       "      <th></th>\n",
       "      <th></th>\n",
       "      <th></th>\n",
       "      <th></th>\n",
       "      <th></th>\n",
       "      <th></th>\n",
       "      <th></th>\n",
       "      <th></th>\n",
       "      <th></th>\n",
       "      <th></th>\n",
       "      <th></th>\n",
       "      <th></th>\n",
       "      <th></th>\n",
       "      <th></th>\n",
       "      <th></th>\n",
       "    </tr>\n",
       "  </thead>\n",
       "  <tbody>\n",
       "    <tr>\n",
       "      <th>Middle</th>\n",
       "      <td>56814</td>\n",
       "      <td>164354</td>\n",
       "      <td>439661</td>\n",
       "      <td>1011215</td>\n",
       "      <td>262776</td>\n",
       "      <td>13006</td>\n",
       "      <td>396842</td>\n",
       "      <td>2028369</td>\n",
       "      <td>394029</td>\n",
       "      <td>322291</td>\n",
       "      <td>...</td>\n",
       "      <td>274850</td>\n",
       "      <td>100442</td>\n",
       "      <td>262971</td>\n",
       "      <td>25228</td>\n",
       "      <td>13365</td>\n",
       "      <td>698279</td>\n",
       "      <td>168404</td>\n",
       "      <td>36165</td>\n",
       "      <td>3562053</td>\n",
       "      <td>1085447</td>\n",
       "    </tr>\n",
       "    <tr>\n",
       "      <th>Older</th>\n",
       "      <td>47596</td>\n",
       "      <td>138738</td>\n",
       "      <td>382446</td>\n",
       "      <td>883669</td>\n",
       "      <td>227751</td>\n",
       "      <td>11424</td>\n",
       "      <td>344447</td>\n",
       "      <td>1762512</td>\n",
       "      <td>343335</td>\n",
       "      <td>280102</td>\n",
       "      <td>...</td>\n",
       "      <td>240635</td>\n",
       "      <td>86448</td>\n",
       "      <td>232752</td>\n",
       "      <td>21787</td>\n",
       "      <td>11604</td>\n",
       "      <td>609961</td>\n",
       "      <td>143728</td>\n",
       "      <td>31755</td>\n",
       "      <td>3104118</td>\n",
       "      <td>940733</td>\n",
       "    </tr>\n",
       "    <tr>\n",
       "      <th>Younger</th>\n",
       "      <td>40217</td>\n",
       "      <td>107300</td>\n",
       "      <td>298721</td>\n",
       "      <td>677017</td>\n",
       "      <td>180323</td>\n",
       "      <td>9021</td>\n",
       "      <td>270785</td>\n",
       "      <td>1386301</td>\n",
       "      <td>266470</td>\n",
       "      <td>219743</td>\n",
       "      <td>...</td>\n",
       "      <td>184372</td>\n",
       "      <td>69101</td>\n",
       "      <td>179058</td>\n",
       "      <td>17753</td>\n",
       "      <td>9442</td>\n",
       "      <td>474465</td>\n",
       "      <td>112174</td>\n",
       "      <td>25140</td>\n",
       "      <td>2413102</td>\n",
       "      <td>740226</td>\n",
       "    </tr>\n",
       "  </tbody>\n",
       "</table>\n",
       "<p>3 rows × 21 columns</p>\n",
       "</div>"
      ],
      "text/plain": [
       "department  alcohol  babies  bakery  beverages  breakfast   bulk  \\\n",
       "age_group                                                          \n",
       "Middle        56814  164354  439661    1011215     262776  13006   \n",
       "Older         47596  138738  382446     883669     227751  11424   \n",
       "Younger       40217  107300  298721     677017     180323   9021   \n",
       "\n",
       "department  canned goods  dairy eggs    deli  dry goods pasta  ...  household  \\\n",
       "age_group                                                      ...              \n",
       "Middle            396842     2028369  394029           322291  ...     274850   \n",
       "Older             344447     1762512  343335           280102  ...     240635   \n",
       "Younger           270785     1386301  266470           219743  ...     184372   \n",
       "\n",
       "department  international  meat seafood  missing  other  pantry  \\\n",
       "age_group                                                         \n",
       "Middle             100442        262971    25228  13365  698279   \n",
       "Older               86448        232752    21787  11604  609961   \n",
       "Younger             69101        179058    17753   9442  474465   \n",
       "\n",
       "department  personal care   pets  produce   snacks  \n",
       "age_group                                           \n",
       "Middle             168404  36165  3562053  1085447  \n",
       "Older              143728  31755  3104118   940733  \n",
       "Younger            112174  25140  2413102   740226  \n",
       "\n",
       "[3 rows x 21 columns]"
      ]
     },
     "execution_count": 59,
     "metadata": {},
     "output_type": "execute_result"
    }
   ],
   "source": [
    "inc_dep"
   ]
  },
  {
   "cell_type": "code",
   "execution_count": 60,
   "id": "b093defe",
   "metadata": {},
   "outputs": [],
   "source": [
    "fam_region= pd.crosstab(norm_act_d['fam_size'], norm_act_d['Region'].sort_values(), dropna = False)"
   ]
  },
  {
   "cell_type": "code",
   "execution_count": 61,
   "id": "966fc727",
   "metadata": {},
   "outputs": [
    {
     "data": {
      "text/html": [
       "<div>\n",
       "<style scoped>\n",
       "    .dataframe tbody tr th:only-of-type {\n",
       "        vertical-align: middle;\n",
       "    }\n",
       "\n",
       "    .dataframe tbody tr th {\n",
       "        vertical-align: top;\n",
       "    }\n",
       "\n",
       "    .dataframe thead th {\n",
       "        text-align: right;\n",
       "    }\n",
       "</style>\n",
       "<table border=\"1\" class=\"dataframe\">\n",
       "  <thead>\n",
       "    <tr style=\"text-align: right;\">\n",
       "      <th>Region</th>\n",
       "      <th>Midwest</th>\n",
       "      <th>Northeast</th>\n",
       "      <th>South</th>\n",
       "      <th>West</th>\n",
       "    </tr>\n",
       "    <tr>\n",
       "      <th>fam_size</th>\n",
       "      <th></th>\n",
       "      <th></th>\n",
       "      <th></th>\n",
       "      <th></th>\n",
       "    </tr>\n",
       "  </thead>\n",
       "  <tbody>\n",
       "    <tr>\n",
       "      <th>Large</th>\n",
       "      <td>1787286</td>\n",
       "      <td>1381233</td>\n",
       "      <td>2585864</td>\n",
       "      <td>2018133</td>\n",
       "    </tr>\n",
       "    <tr>\n",
       "      <th>No dependants</th>\n",
       "      <td>1822816</td>\n",
       "      <td>1354482</td>\n",
       "      <td>2581933</td>\n",
       "      <td>1980450</td>\n",
       "    </tr>\n",
       "    <tr>\n",
       "      <th>Small</th>\n",
       "      <td>3651411</td>\n",
       "      <td>2728970</td>\n",
       "      <td>5143342</td>\n",
       "      <td>3928644</td>\n",
       "    </tr>\n",
       "  </tbody>\n",
       "</table>\n",
       "</div>"
      ],
      "text/plain": [
       "Region         Midwest  Northeast    South     West\n",
       "fam_size                                           \n",
       "Large          1787286    1381233  2585864  2018133\n",
       "No dependants  1822816    1354482  2581933  1980450\n",
       "Small          3651411    2728970  5143342  3928644"
      ]
     },
     "execution_count": 61,
     "metadata": {},
     "output_type": "execute_result"
    }
   ],
   "source": [
    "fam_region"
   ]
  },
  {
   "cell_type": "code",
   "execution_count": 62,
   "id": "50461adb",
   "metadata": {},
   "outputs": [],
   "source": [
    "fam_dep= pd.crosstab(norm_act_d['fam_size'], norm_act_d['department'].sort_values(), dropna = False)"
   ]
  },
  {
   "cell_type": "code",
   "execution_count": 63,
   "id": "6c1844bd",
   "metadata": {},
   "outputs": [
    {
     "data": {
      "text/html": [
       "<div>\n",
       "<style scoped>\n",
       "    .dataframe tbody tr th:only-of-type {\n",
       "        vertical-align: middle;\n",
       "    }\n",
       "\n",
       "    .dataframe tbody tr th {\n",
       "        vertical-align: top;\n",
       "    }\n",
       "\n",
       "    .dataframe thead th {\n",
       "        text-align: right;\n",
       "    }\n",
       "</style>\n",
       "<table border=\"1\" class=\"dataframe\">\n",
       "  <thead>\n",
       "    <tr style=\"text-align: right;\">\n",
       "      <th>department</th>\n",
       "      <th>alcohol</th>\n",
       "      <th>babies</th>\n",
       "      <th>bakery</th>\n",
       "      <th>beverages</th>\n",
       "      <th>breakfast</th>\n",
       "      <th>bulk</th>\n",
       "      <th>canned goods</th>\n",
       "      <th>dairy eggs</th>\n",
       "      <th>deli</th>\n",
       "      <th>dry goods pasta</th>\n",
       "      <th>...</th>\n",
       "      <th>household</th>\n",
       "      <th>international</th>\n",
       "      <th>meat seafood</th>\n",
       "      <th>missing</th>\n",
       "      <th>other</th>\n",
       "      <th>pantry</th>\n",
       "      <th>personal care</th>\n",
       "      <th>pets</th>\n",
       "      <th>produce</th>\n",
       "      <th>snacks</th>\n",
       "    </tr>\n",
       "    <tr>\n",
       "      <th>fam_size</th>\n",
       "      <th></th>\n",
       "      <th></th>\n",
       "      <th></th>\n",
       "      <th></th>\n",
       "      <th></th>\n",
       "      <th></th>\n",
       "      <th></th>\n",
       "      <th></th>\n",
       "      <th></th>\n",
       "      <th></th>\n",
       "      <th></th>\n",
       "      <th></th>\n",
       "      <th></th>\n",
       "      <th></th>\n",
       "      <th></th>\n",
       "      <th></th>\n",
       "      <th></th>\n",
       "      <th></th>\n",
       "      <th></th>\n",
       "      <th></th>\n",
       "      <th></th>\n",
       "    </tr>\n",
       "  </thead>\n",
       "  <tbody>\n",
       "    <tr>\n",
       "      <th>Large</th>\n",
       "      <td>37333</td>\n",
       "      <td>102585</td>\n",
       "      <td>279822</td>\n",
       "      <td>640927</td>\n",
       "      <td>167322</td>\n",
       "      <td>8403</td>\n",
       "      <td>255325</td>\n",
       "      <td>1296264</td>\n",
       "      <td>252592</td>\n",
       "      <td>208412</td>\n",
       "      <td>...</td>\n",
       "      <td>176284</td>\n",
       "      <td>63473</td>\n",
       "      <td>171423</td>\n",
       "      <td>16435</td>\n",
       "      <td>8377</td>\n",
       "      <td>446156</td>\n",
       "      <td>106315</td>\n",
       "      <td>23142</td>\n",
       "      <td>2287719</td>\n",
       "      <td>691799</td>\n",
       "    </tr>\n",
       "    <tr>\n",
       "      <th>No dependants</th>\n",
       "      <td>36827</td>\n",
       "      <td>103328</td>\n",
       "      <td>281395</td>\n",
       "      <td>645341</td>\n",
       "      <td>166432</td>\n",
       "      <td>8000</td>\n",
       "      <td>251020</td>\n",
       "      <td>1294376</td>\n",
       "      <td>253382</td>\n",
       "      <td>204296</td>\n",
       "      <td>...</td>\n",
       "      <td>171358</td>\n",
       "      <td>64461</td>\n",
       "      <td>165878</td>\n",
       "      <td>15935</td>\n",
       "      <td>8714</td>\n",
       "      <td>443904</td>\n",
       "      <td>106205</td>\n",
       "      <td>23602</td>\n",
       "      <td>2275441</td>\n",
       "      <td>690438</td>\n",
       "    </tr>\n",
       "    <tr>\n",
       "      <th>Small</th>\n",
       "      <td>70467</td>\n",
       "      <td>204479</td>\n",
       "      <td>559611</td>\n",
       "      <td>1285633</td>\n",
       "      <td>337096</td>\n",
       "      <td>17048</td>\n",
       "      <td>505729</td>\n",
       "      <td>2586542</td>\n",
       "      <td>497860</td>\n",
       "      <td>409428</td>\n",
       "      <td>...</td>\n",
       "      <td>352215</td>\n",
       "      <td>128057</td>\n",
       "      <td>337480</td>\n",
       "      <td>32398</td>\n",
       "      <td>17320</td>\n",
       "      <td>892645</td>\n",
       "      <td>211786</td>\n",
       "      <td>46316</td>\n",
       "      <td>4516113</td>\n",
       "      <td>1384169</td>\n",
       "    </tr>\n",
       "  </tbody>\n",
       "</table>\n",
       "<p>3 rows × 21 columns</p>\n",
       "</div>"
      ],
      "text/plain": [
       "department     alcohol  babies  bakery  beverages  breakfast   bulk  \\\n",
       "fam_size                                                              \n",
       "Large            37333  102585  279822     640927     167322   8403   \n",
       "No dependants    36827  103328  281395     645341     166432   8000   \n",
       "Small            70467  204479  559611    1285633     337096  17048   \n",
       "\n",
       "department     canned goods  dairy eggs    deli  dry goods pasta  ...  \\\n",
       "fam_size                                                          ...   \n",
       "Large                255325     1296264  252592           208412  ...   \n",
       "No dependants        251020     1294376  253382           204296  ...   \n",
       "Small                505729     2586542  497860           409428  ...   \n",
       "\n",
       "department     household  international  meat seafood  missing  other  pantry  \\\n",
       "fam_size                                                                        \n",
       "Large             176284          63473        171423    16435   8377  446156   \n",
       "No dependants     171358          64461        165878    15935   8714  443904   \n",
       "Small             352215         128057        337480    32398  17320  892645   \n",
       "\n",
       "department     personal care   pets  produce   snacks  \n",
       "fam_size                                               \n",
       "Large                 106315  23142  2287719   691799  \n",
       "No dependants         106205  23602  2275441   690438  \n",
       "Small                 211786  46316  4516113  1384169  \n",
       "\n",
       "[3 rows x 21 columns]"
      ]
     },
     "execution_count": 63,
     "metadata": {},
     "output_type": "execute_result"
    }
   ],
   "source": [
    "fam_dep"
   ]
  },
  {
   "cell_type": "code",
   "execution_count": 64,
   "id": "17588b45",
   "metadata": {},
   "outputs": [
    {
     "data": {
      "image/png": "[encoded data removed]",
      "text/plain": [
       "<Figure size 640x480 with 1 Axes>"
      ]
     },
     "metadata": {},
     "output_type": "display_data"
    }
   ],
   "source": [
    "# Create relevant charts\n",
    "age_dens=sns.kdeplot(norm_act_d['Age'])"
   ]
  },
  {
   "cell_type": "code",
   "execution_count": 67,
   "id": "b24e71d3",
   "metadata": {},
   "outputs": [
    {
     "data": {
      "image/png": "[encoded data removed]",
      "text/plain": [
       "<Figure size 640x480 with 1 Axes>"
      ]
     },
     "metadata": {},
     "output_type": "display_data"
    }
   ],
   "source": [
    "reg_bar=inc_region.plot(kind='bar', stacked=True, color= ['tab:red', 'tab:blue', 'tab:orange', 'tab:green'])"
   ]
  },
  {
   "cell_type": "code",
   "execution_count": 68,
   "id": "2ce01b80",
   "metadata": {},
   "outputs": [
    {
     "data": {
      "image/png": "[encoded data removed]",
      "text/plain": [
       "<Figure size 640x480 with 1 Axes>"
      ]
     },
     "metadata": {},
     "output_type": "display_data"
    }
   ],
   "source": [
    "age_bar=age_region.plot(kind='bar', stacked=True, color= ['tab:red', 'tab:blue', 'tab:orange', 'tab:green'])"
   ]
  },
  {
   "cell_type": "code",
   "execution_count": 70,
   "id": "3f9a8586",
   "metadata": {},
   "outputs": [
    {
     "data": {
      "image/png": "[encoded data removed]",
      "text/plain": [
       "<Figure size 640x480 with 1 Axes>"
      ]
     },
     "metadata": {},
     "output_type": "display_data"
    }
   ],
   "source": [
    "fam_bar=fam_region.plot(kind='bar', stacked=True, color= ['tab:red', 'tab:blue', 'tab:orange', 'tab:green'])"
   ]
  },
  {
   "cell_type": "code",
   "execution_count": 71,
   "id": "b6ae1a9d",
   "metadata": {},
   "outputs": [],
   "source": [
    "# Export\n",
    "norm_act_d.to_pickle(os.path.join(path, 'normal_activity_departments.pkl'))"
   ]
  },
  {
   "cell_type": "code",
   "execution_count": 72,
   "id": "2859c708",
   "metadata": {},
   "outputs": [],
   "source": [
    "scatter.figure.savefig(os.path.join(path, 'age_vs_income.png'))"
   ]
  },
  {
   "cell_type": "code",
   "execution_count": 73,
   "id": "c69b926f",
   "metadata": {},
   "outputs": [],
   "source": [
    "age_dens.figure.savefig(os.path.join(path, 'age_density.png'))"
   ]
  },
  {
   "cell_type": "code",
   "execution_count": 74,
   "id": "f160abed",
   "metadata": {},
   "outputs": [],
   "source": [
    "reg_bar.figure.savefig(os.path.join(path, 'income_v_region.png'))"
   ]
  },
  {
   "cell_type": "code",
   "execution_count": 75,
   "id": "e846da58",
   "metadata": {},
   "outputs": [],
   "source": [
    "age_bar.figure.savefig(os.path.join(path, 'age_v_region.png'))"
   ]
  },
  {
   "cell_type": "code",
   "execution_count": 76,
   "id": "a48a2e7c",
   "metadata": {},
   "outputs": [],
   "source": [
    "fam_bar.figure.savefig(os.path.join(path, 'fam_size_v_region.png'))"
   ]
  },
  {
   "cell_type": "code",
   "execution_count": 77,
   "id": "666dd28f",
   "metadata": {},
   "outputs": [
    {
     "data": {
      "text/plain": [
       "(30964564, 29)"
      ]
     },
     "execution_count": 77,
     "metadata": {},
     "output_type": "execute_result"
    }
   ],
   "source": [
    "norm_act_d.shape"
   ]
  },
  {
   "cell_type": "code",
   "execution_count": 78,
   "id": "e8509fbb",
   "metadata": {},
   "outputs": [
    {
     "data": {
      "text/plain": [
       "(30964564, 27)"
      ]
     },
     "execution_count": 78,
     "metadata": {},
     "output_type": "execute_result"
    }
   ],
   "source": [
    "norm_act.shape"
   ]
  },
  {
   "cell_type": "code",
   "execution_count": 7,
   "id": "ad9769a8",
   "metadata": {},
   "outputs": [],
   "source": [
    "dep_region= pd.crosstab(norm_act_d['department'], norm_act_d['Region'].sort_values(), dropna = False)"
   ]
  },
  {
   "cell_type": "code",
   "execution_count": 8,
   "id": "29bee75e",
   "metadata": {},
   "outputs": [
    {
     "data": {
      "text/html": [
       "<div>\n",
       "<style scoped>\n",
       "    .dataframe tbody tr th:only-of-type {\n",
       "        vertical-align: middle;\n",
       "    }\n",
       "\n",
       "    .dataframe tbody tr th {\n",
       "        vertical-align: top;\n",
       "    }\n",
       "\n",
       "    .dataframe thead th {\n",
       "        text-align: right;\n",
       "    }\n",
       "</style>\n",
       "<table border=\"1\" class=\"dataframe\">\n",
       "  <thead>\n",
       "    <tr style=\"text-align: right;\">\n",
       "      <th>Region</th>\n",
       "      <th>Midwest</th>\n",
       "      <th>Northeast</th>\n",
       "      <th>South</th>\n",
       "      <th>West</th>\n",
       "    </tr>\n",
       "    <tr>\n",
       "      <th>department</th>\n",
       "      <th></th>\n",
       "      <th></th>\n",
       "      <th></th>\n",
       "      <th></th>\n",
       "    </tr>\n",
       "  </thead>\n",
       "  <tbody>\n",
       "    <tr>\n",
       "      <th>alcohol</th>\n",
       "      <td>34043</td>\n",
       "      <td>25017</td>\n",
       "      <td>48813</td>\n",
       "      <td>36754</td>\n",
       "    </tr>\n",
       "    <tr>\n",
       "      <th>babies</th>\n",
       "      <td>95741</td>\n",
       "      <td>72712</td>\n",
       "      <td>139511</td>\n",
       "      <td>102428</td>\n",
       "    </tr>\n",
       "    <tr>\n",
       "      <th>bakery</th>\n",
       "      <td>261753</td>\n",
       "      <td>199300</td>\n",
       "      <td>371620</td>\n",
       "      <td>288155</td>\n",
       "    </tr>\n",
       "    <tr>\n",
       "      <th>beverages</th>\n",
       "      <td>598979</td>\n",
       "      <td>462929</td>\n",
       "      <td>859419</td>\n",
       "      <td>650574</td>\n",
       "    </tr>\n",
       "    <tr>\n",
       "      <th>breakfast</th>\n",
       "      <td>156155</td>\n",
       "      <td>117904</td>\n",
       "      <td>223172</td>\n",
       "      <td>173619</td>\n",
       "    </tr>\n",
       "    <tr>\n",
       "      <th>bulk</th>\n",
       "      <td>7929</td>\n",
       "      <td>5599</td>\n",
       "      <td>11180</td>\n",
       "      <td>8743</td>\n",
       "    </tr>\n",
       "    <tr>\n",
       "      <th>canned goods</th>\n",
       "      <td>237459</td>\n",
       "      <td>176936</td>\n",
       "      <td>337458</td>\n",
       "      <td>260221</td>\n",
       "    </tr>\n",
       "    <tr>\n",
       "      <th>dairy eggs</th>\n",
       "      <td>1212490</td>\n",
       "      <td>914616</td>\n",
       "      <td>1723016</td>\n",
       "      <td>1327060</td>\n",
       "    </tr>\n",
       "    <tr>\n",
       "      <th>deli</th>\n",
       "      <td>234464</td>\n",
       "      <td>178398</td>\n",
       "      <td>333620</td>\n",
       "      <td>257352</td>\n",
       "    </tr>\n",
       "    <tr>\n",
       "      <th>dry goods pasta</th>\n",
       "      <td>193463</td>\n",
       "      <td>143817</td>\n",
       "      <td>272813</td>\n",
       "      <td>212043</td>\n",
       "    </tr>\n",
       "    <tr>\n",
       "      <th>frozen</th>\n",
       "      <td>498225</td>\n",
       "      <td>370436</td>\n",
       "      <td>709906</td>\n",
       "      <td>543164</td>\n",
       "    </tr>\n",
       "    <tr>\n",
       "      <th>household</th>\n",
       "      <td>166992</td>\n",
       "      <td>124604</td>\n",
       "      <td>230061</td>\n",
       "      <td>178200</td>\n",
       "    </tr>\n",
       "    <tr>\n",
       "      <th>international</th>\n",
       "      <td>60666</td>\n",
       "      <td>44678</td>\n",
       "      <td>84649</td>\n",
       "      <td>65998</td>\n",
       "    </tr>\n",
       "    <tr>\n",
       "      <th>meat seafood</th>\n",
       "      <td>158260</td>\n",
       "      <td>118571</td>\n",
       "      <td>224120</td>\n",
       "      <td>173830</td>\n",
       "    </tr>\n",
       "    <tr>\n",
       "      <th>missing</th>\n",
       "      <td>15563</td>\n",
       "      <td>11512</td>\n",
       "      <td>21787</td>\n",
       "      <td>15906</td>\n",
       "    </tr>\n",
       "    <tr>\n",
       "      <th>other</th>\n",
       "      <td>7983</td>\n",
       "      <td>6268</td>\n",
       "      <td>11579</td>\n",
       "      <td>8581</td>\n",
       "    </tr>\n",
       "    <tr>\n",
       "      <th>pantry</th>\n",
       "      <td>420334</td>\n",
       "      <td>312731</td>\n",
       "      <td>591754</td>\n",
       "      <td>457886</td>\n",
       "    </tr>\n",
       "    <tr>\n",
       "      <th>personal care</th>\n",
       "      <td>100398</td>\n",
       "      <td>74765</td>\n",
       "      <td>142496</td>\n",
       "      <td>106647</td>\n",
       "    </tr>\n",
       "    <tr>\n",
       "      <th>pets</th>\n",
       "      <td>21358</td>\n",
       "      <td>17734</td>\n",
       "      <td>29909</td>\n",
       "      <td>24059</td>\n",
       "    </tr>\n",
       "    <tr>\n",
       "      <th>produce</th>\n",
       "      <td>2134115</td>\n",
       "      <td>1593004</td>\n",
       "      <td>3027476</td>\n",
       "      <td>2324678</td>\n",
       "    </tr>\n",
       "    <tr>\n",
       "      <th>snacks</th>\n",
       "      <td>645143</td>\n",
       "      <td>493154</td>\n",
       "      <td>916780</td>\n",
       "      <td>711329</td>\n",
       "    </tr>\n",
       "  </tbody>\n",
       "</table>\n",
       "</div>"
      ],
      "text/plain": [
       "Region           Midwest  Northeast    South     West\n",
       "department                                           \n",
       "alcohol            34043      25017    48813    36754\n",
       "babies             95741      72712   139511   102428\n",
       "bakery            261753     199300   371620   288155\n",
       "beverages         598979     462929   859419   650574\n",
       "breakfast         156155     117904   223172   173619\n",
       "bulk                7929       5599    11180     8743\n",
       "canned goods      237459     176936   337458   260221\n",
       "dairy eggs       1212490     914616  1723016  1327060\n",
       "deli              234464     178398   333620   257352\n",
       "dry goods pasta   193463     143817   272813   212043\n",
       "frozen            498225     370436   709906   543164\n",
       "household         166992     124604   230061   178200\n",
       "international      60666      44678    84649    65998\n",
       "meat seafood      158260     118571   224120   173830\n",
       "missing            15563      11512    21787    15906\n",
       "other               7983       6268    11579     8581\n",
       "pantry            420334     312731   591754   457886\n",
       "personal care     100398      74765   142496   106647\n",
       "pets               21358      17734    29909    24059\n",
       "produce          2134115    1593004  3027476  2324678\n",
       "snacks            645143     493154   916780   711329"
      ]
     },
     "execution_count": 8,
     "metadata": {},
     "output_type": "execute_result"
    }
   ],
   "source": [
    "dep_region"
   ]
  },
  {
   "cell_type": "code",
   "execution_count": 9,
   "id": "4f8a55f4",
   "metadata": {},
   "outputs": [
    {
     "data": {
      "image/png": "[encoded data removed]",
      "text/plain": [
       "<Figure size 640x480 with 1 Axes>"
      ]
     },
     "metadata": {},
     "output_type": "display_data"
    }
   ],
   "source": [
    "dep_bar=dep_region.plot(kind='bar', stacked=True, color= ['tab:red', 'tab:blue', 'tab:orange', 'tab:green'])"
   ]
  },
  {
   "cell_type": "code",
   "execution_count": 10,
   "id": "f39ab121",
   "metadata": {},
   "outputs": [],
   "source": [
    "dep_bar.figure.savefig(os.path.join(path, 'department_region.png'))"
   ]
  },
  {
   "cell_type": "code",
   "execution_count": 14,
   "id": "8452589b",
   "metadata": {},
   "outputs": [],
   "source": [
    "size_spend= pd.crosstab(norm_act_d['spending_flag'], norm_act_d['n_dependants'].sort_values(), dropna = False)"
   ]
  },
  {
   "cell_type": "code",
   "execution_count": 15,
   "id": "49d016d9",
   "metadata": {},
   "outputs": [
    {
     "data": {
      "text/html": [
       "<div>\n",
       "<style scoped>\n",
       "    .dataframe tbody tr th:only-of-type {\n",
       "        vertical-align: middle;\n",
       "    }\n",
       "\n",
       "    .dataframe tbody tr th {\n",
       "        vertical-align: top;\n",
       "    }\n",
       "\n",
       "    .dataframe thead th {\n",
       "        text-align: right;\n",
       "    }\n",
       "</style>\n",
       "<table border=\"1\" class=\"dataframe\">\n",
       "  <thead>\n",
       "    <tr style=\"text-align: right;\">\n",
       "      <th>n_dependants</th>\n",
       "      <th>0</th>\n",
       "      <th>1</th>\n",
       "      <th>2</th>\n",
       "      <th>3</th>\n",
       "    </tr>\n",
       "    <tr>\n",
       "      <th>spending_flag</th>\n",
       "      <th></th>\n",
       "      <th></th>\n",
       "      <th></th>\n",
       "      <th></th>\n",
       "    </tr>\n",
       "  </thead>\n",
       "  <tbody>\n",
       "    <tr>\n",
       "      <th>High spender</th>\n",
       "      <td>146042</td>\n",
       "      <td>143658</td>\n",
       "      <td>161059</td>\n",
       "      <td>152666</td>\n",
       "    </tr>\n",
       "    <tr>\n",
       "      <th>Low spender</th>\n",
       "      <td>7593639</td>\n",
       "      <td>7575448</td>\n",
       "      <td>7572202</td>\n",
       "      <td>7619850</td>\n",
       "    </tr>\n",
       "  </tbody>\n",
       "</table>\n",
       "</div>"
      ],
      "text/plain": [
       "n_dependants         0        1        2        3\n",
       "spending_flag                                    \n",
       "High spender    146042   143658   161059   152666\n",
       "Low spender    7593639  7575448  7572202  7619850"
      ]
     },
     "execution_count": 15,
     "metadata": {},
     "output_type": "execute_result"
    }
   ],
   "source": [
    "size_spend"
   ]
  },
  {
   "cell_type": "code",
   "execution_count": 18,
   "id": "eea44a2e",
   "metadata": {},
   "outputs": [
    {
     "ename": "KeyError",
     "evalue": "'age_group'",
     "output_type": "error",
     "traceback": [
      "\u001b[1;31m---------------------------------------------------------------------------\u001b[0m",
      "\u001b[1;31mKeyError\u001b[0m                                  Traceback (most recent call last)",
      "File \u001b[1;32m~\\anaconda\\Lib\\site-packages\\pandas\\core\\indexes\\base.py:3653\u001b[0m, in \u001b[0;36mIndex.get_loc\u001b[1;34m(self, key)\u001b[0m\n\u001b[0;32m   3652\u001b[0m \u001b[38;5;28;01mtry\u001b[39;00m:\n\u001b[1;32m-> 3653\u001b[0m     \u001b[38;5;28;01mreturn\u001b[39;00m \u001b[38;5;28mself\u001b[39m\u001b[38;5;241m.\u001b[39m_engine\u001b[38;5;241m.\u001b[39mget_loc(casted_key)\n\u001b[0;32m   3654\u001b[0m \u001b[38;5;28;01mexcept\u001b[39;00m \u001b[38;5;167;01mKeyError\u001b[39;00m \u001b[38;5;28;01mas\u001b[39;00m err:\n",
      "File \u001b[1;32m~\\anaconda\\Lib\\site-packages\\pandas\\_libs\\index.pyx:147\u001b[0m, in \u001b[0;36mpandas._libs.index.IndexEngine.get_loc\u001b[1;34m()\u001b[0m\n",
      "File \u001b[1;32m~\\anaconda\\Lib\\site-packages\\pandas\\_libs\\index.pyx:176\u001b[0m, in \u001b[0;36mpandas._libs.index.IndexEngine.get_loc\u001b[1;34m()\u001b[0m\n",
      "File \u001b[1;32mpandas\\_libs\\hashtable_class_helper.pxi:7080\u001b[0m, in \u001b[0;36mpandas._libs.hashtable.PyObjectHashTable.get_item\u001b[1;34m()\u001b[0m\n",
      "File \u001b[1;32mpandas\\_libs\\hashtable_class_helper.pxi:7088\u001b[0m, in \u001b[0;36mpandas._libs.hashtable.PyObjectHashTable.get_item\u001b[1;34m()\u001b[0m\n",
      "\u001b[1;31mKeyError\u001b[0m: 'age_group'",
      "\nThe above exception was the direct cause of the following exception:\n",
      "\u001b[1;31mKeyError\u001b[0m                                  Traceback (most recent call last)",
      "Cell \u001b[1;32mIn[18], line 1\u001b[0m\n\u001b[1;32m----> 1\u001b[0m age_spend\u001b[38;5;241m=\u001b[39mpd\u001b[38;5;241m.\u001b[39mcrosstab(norm_act_d[\u001b[38;5;124m'\u001b[39m\u001b[38;5;124mspending_flag\u001b[39m\u001b[38;5;124m'\u001b[39m], norm_act_d[\u001b[38;5;124m'\u001b[39m\u001b[38;5;124mage_group\u001b[39m\u001b[38;5;124m'\u001b[39m]\u001b[38;5;241m.\u001b[39msort_values(), dropna \u001b[38;5;241m=\u001b[39m \u001b[38;5;28;01mFalse\u001b[39;00m)\n",
      "File \u001b[1;32m~\\anaconda\\Lib\\site-packages\\pandas\\core\\frame.py:3761\u001b[0m, in \u001b[0;36mDataFrame.__getitem__\u001b[1;34m(self, key)\u001b[0m\n\u001b[0;32m   3759\u001b[0m \u001b[38;5;28;01mif\u001b[39;00m \u001b[38;5;28mself\u001b[39m\u001b[38;5;241m.\u001b[39mcolumns\u001b[38;5;241m.\u001b[39mnlevels \u001b[38;5;241m>\u001b[39m \u001b[38;5;241m1\u001b[39m:\n\u001b[0;32m   3760\u001b[0m     \u001b[38;5;28;01mreturn\u001b[39;00m \u001b[38;5;28mself\u001b[39m\u001b[38;5;241m.\u001b[39m_getitem_multilevel(key)\n\u001b[1;32m-> 3761\u001b[0m indexer \u001b[38;5;241m=\u001b[39m \u001b[38;5;28mself\u001b[39m\u001b[38;5;241m.\u001b[39mcolumns\u001b[38;5;241m.\u001b[39mget_loc(key)\n\u001b[0;32m   3762\u001b[0m \u001b[38;5;28;01mif\u001b[39;00m is_integer(indexer):\n\u001b[0;32m   3763\u001b[0m     indexer \u001b[38;5;241m=\u001b[39m [indexer]\n",
      "File \u001b[1;32m~\\anaconda\\Lib\\site-packages\\pandas\\core\\indexes\\base.py:3655\u001b[0m, in \u001b[0;36mIndex.get_loc\u001b[1;34m(self, key)\u001b[0m\n\u001b[0;32m   3653\u001b[0m     \u001b[38;5;28;01mreturn\u001b[39;00m \u001b[38;5;28mself\u001b[39m\u001b[38;5;241m.\u001b[39m_engine\u001b[38;5;241m.\u001b[39mget_loc(casted_key)\n\u001b[0;32m   3654\u001b[0m \u001b[38;5;28;01mexcept\u001b[39;00m \u001b[38;5;167;01mKeyError\u001b[39;00m \u001b[38;5;28;01mas\u001b[39;00m err:\n\u001b[1;32m-> 3655\u001b[0m     \u001b[38;5;28;01mraise\u001b[39;00m \u001b[38;5;167;01mKeyError\u001b[39;00m(key) \u001b[38;5;28;01mfrom\u001b[39;00m \u001b[38;5;21;01merr\u001b[39;00m\n\u001b[0;32m   3656\u001b[0m \u001b[38;5;28;01mexcept\u001b[39;00m \u001b[38;5;167;01mTypeError\u001b[39;00m:\n\u001b[0;32m   3657\u001b[0m     \u001b[38;5;66;03m# If we have a listlike key, _check_indexing_error will raise\u001b[39;00m\n\u001b[0;32m   3658\u001b[0m     \u001b[38;5;66;03m#  InvalidIndexError. Otherwise we fall through and re-raise\u001b[39;00m\n\u001b[0;32m   3659\u001b[0m     \u001b[38;5;66;03m#  the TypeError.\u001b[39;00m\n\u001b[0;32m   3660\u001b[0m     \u001b[38;5;28mself\u001b[39m\u001b[38;5;241m.\u001b[39m_check_indexing_error(key)\n",
      "\u001b[1;31mKeyError\u001b[0m: 'age_group'"
     ]
    }
   ],
   "source": [
    "age_spend=pd.crosstab(norm_act_d['spending_flag'], norm_act_d['Age'].sort_values(), dropna = False)"
   ]
  },
  {
   "cell_type": "code",
   "execution_count": 17,
   "id": "85cac9d9",
   "metadata": {},
   "outputs": [
    {
     "data": {
      "text/html": [
       "<div>\n",
       "<style scoped>\n",
       "    .dataframe tbody tr th:only-of-type {\n",
       "        vertical-align: middle;\n",
       "    }\n",
       "\n",
       "    .dataframe tbody tr th {\n",
       "        vertical-align: top;\n",
       "    }\n",
       "\n",
       "    .dataframe thead th {\n",
       "        text-align: right;\n",
       "    }\n",
       "</style>\n",
       "<table border=\"1\" class=\"dataframe\">\n",
       "  <thead>\n",
       "    <tr style=\"text-align: right;\">\n",
       "      <th>Age</th>\n",
       "      <th>18</th>\n",
       "      <th>19</th>\n",
       "      <th>20</th>\n",
       "      <th>21</th>\n",
       "      <th>22</th>\n",
       "      <th>23</th>\n",
       "      <th>24</th>\n",
       "      <th>25</th>\n",
       "      <th>26</th>\n",
       "      <th>27</th>\n",
       "      <th>...</th>\n",
       "      <th>72</th>\n",
       "      <th>73</th>\n",
       "      <th>74</th>\n",
       "      <th>75</th>\n",
       "      <th>76</th>\n",
       "      <th>77</th>\n",
       "      <th>78</th>\n",
       "      <th>79</th>\n",
       "      <th>80</th>\n",
       "      <th>81</th>\n",
       "    </tr>\n",
       "    <tr>\n",
       "      <th>spending_flag</th>\n",
       "      <th></th>\n",
       "      <th></th>\n",
       "      <th></th>\n",
       "      <th></th>\n",
       "      <th></th>\n",
       "      <th></th>\n",
       "      <th></th>\n",
       "      <th></th>\n",
       "      <th></th>\n",
       "      <th></th>\n",
       "      <th></th>\n",
       "      <th></th>\n",
       "      <th></th>\n",
       "      <th></th>\n",
       "      <th></th>\n",
       "      <th></th>\n",
       "      <th></th>\n",
       "      <th></th>\n",
       "      <th></th>\n",
       "      <th></th>\n",
       "      <th></th>\n",
       "    </tr>\n",
       "  </thead>\n",
       "  <tbody>\n",
       "    <tr>\n",
       "      <th>High spender</th>\n",
       "      <td>9242</td>\n",
       "      <td>6606</td>\n",
       "      <td>9866</td>\n",
       "      <td>10121</td>\n",
       "      <td>8785</td>\n",
       "      <td>8076</td>\n",
       "      <td>13770</td>\n",
       "      <td>7536</td>\n",
       "      <td>9045</td>\n",
       "      <td>9319</td>\n",
       "      <td>...</td>\n",
       "      <td>8916</td>\n",
       "      <td>6824</td>\n",
       "      <td>5771</td>\n",
       "      <td>12698</td>\n",
       "      <td>9070</td>\n",
       "      <td>11106</td>\n",
       "      <td>12225</td>\n",
       "      <td>7534</td>\n",
       "      <td>10288</td>\n",
       "      <td>10439</td>\n",
       "    </tr>\n",
       "    <tr>\n",
       "      <th>Low spender</th>\n",
       "      <td>469215</td>\n",
       "      <td>489471</td>\n",
       "      <td>470328</td>\n",
       "      <td>478995</td>\n",
       "      <td>482026</td>\n",
       "      <td>484855</td>\n",
       "      <td>473838</td>\n",
       "      <td>441788</td>\n",
       "      <td>480847</td>\n",
       "      <td>491752</td>\n",
       "      <td>...</td>\n",
       "      <td>470968</td>\n",
       "      <td>492629</td>\n",
       "      <td>471397</td>\n",
       "      <td>486531</td>\n",
       "      <td>468278</td>\n",
       "      <td>466893</td>\n",
       "      <td>458894</td>\n",
       "      <td>500803</td>\n",
       "      <td>482462</td>\n",
       "      <td>475408</td>\n",
       "    </tr>\n",
       "  </tbody>\n",
       "</table>\n",
       "<p>2 rows × 64 columns</p>\n",
       "</div>"
      ],
      "text/plain": [
       "Age                18      19      20      21      22      23      24      25  \\\n",
       "spending_flag                                                                   \n",
       "High spender     9242    6606    9866   10121    8785    8076   13770    7536   \n",
       "Low spender    469215  489471  470328  478995  482026  484855  473838  441788   \n",
       "\n",
       "Age                26      27  ...      72      73      74      75      76  \\\n",
       "spending_flag                  ...                                           \n",
       "High spender     9045    9319  ...    8916    6824    5771   12698    9070   \n",
       "Low spender    480847  491752  ...  470968  492629  471397  486531  468278   \n",
       "\n",
       "Age                77      78      79      80      81  \n",
       "spending_flag                                          \n",
       "High spender    11106   12225    7534   10288   10439  \n",
       "Low spender    466893  458894  500803  482462  475408  \n",
       "\n",
       "[2 rows x 64 columns]"
      ]
     },
     "execution_count": 17,
     "metadata": {},
     "output_type": "execute_result"
    }
   ],
   "source": [
    "age_spend"
   ]
  },
  {
   "cell_type": "code",
   "execution_count": 15,
   "id": "5cd79395",
   "metadata": {},
   "outputs": [
    {
     "data": {
      "image/png": "[encoded data removed]",
      "text/plain": [
       "<Figure size 640x480 with 1 Axes>"
      ]
     },
     "metadata": {},
     "output_type": "display_data"
    }
   ],
   "source": [
    "age_dep_bar=age_dep.plot(kind='bar', stacked=True, color= ['tab:red', 'tab:blue', 'tab:orange'])"
   ]
  },
  {
   "cell_type": "code",
   "execution_count": null,
   "id": "3c0c4187",
   "metadata": {},
   "outputs": [],
   "source": []
  }
 ],
 "metadata": {
  "kernelspec": {
   "display_name": "Python 3 (ipykernel)",
   "language": "python",
   "name": "python3"
  },
  "language_info": {
   "codemirror_mode": {
    "name": "ipython",
    "version": 3
   },
   "file_extension": ".py",
   "mimetype": "text/x-python",
   "name": "python",
   "nbconvert_exporter": "python",
   "pygments_lexer": "ipython3",
   "version": "3.11.4"
  }
 },
 "nbformat": 4,
 "nbformat_minor": 5
}
